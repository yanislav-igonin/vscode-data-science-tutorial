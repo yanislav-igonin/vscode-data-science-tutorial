{
 "cells": [
  {
   "cell_type": "code",
   "execution_count": 15,
   "metadata": {},
   "outputs": [
    {
     "data": {
      "text/plain": [
       "117743"
      ]
     },
     "execution_count": 15,
     "metadata": {},
     "output_type": "execute_result"
    }
   ],
   "source": [
    "# Download dataset\n",
    "import requests\n",
    "url = 'https://www.openml.org/data/get_csv/16826755/phpMYEkMl'\n",
    "filename = 'dataset.csv'\n",
    "r = requests.get(url, allow_redirects=True)\n",
    "open(filename, 'wb').write(r.content)"
   ]
  }
 ],
 "metadata": {
  "interpreter": {
   "hash": "d956486fdb99423eae4c408a614ef84bf2ab0c974de442ac0c4201f0886a4692"
  },
  "kernelspec": {
   "display_name": "Python 3.7.11 64-bit ('vscode-ds': conda)",
   "name": "python3"
  },
  "language_info": {
   "codemirror_mode": {
    "name": "ipython",
    "version": 3
   },
   "file_extension": ".py",
   "mimetype": "text/x-python",
   "name": "python",
   "nbconvert_exporter": "python",
   "pygments_lexer": "ipython3",
   "version": "3.7.11"
  },
  "orig_nbformat": 4
 },
 "nbformat": 4,
 "nbformat_minor": 2
}
